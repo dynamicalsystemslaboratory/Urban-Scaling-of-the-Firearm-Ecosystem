{
 "cells": [
  {
   "cell_type": "code",
   "execution_count": 1,
   "id": "b4f50bf1",
   "metadata": {},
   "outputs": [
    {
     "name": "stderr",
     "output_type": "stream",
     "text": [
      "C:\\Users\\succa\\anaconda3\\lib\\site-packages\\tigramite\\independence_tests\\gpdc.py:27: UserWarning: [Errno 2] No such file or directory: 'C:\\\\Users\\\\succa\\\\anaconda3\\\\lib\\\\site-packages\\\\tigramite\\\\independence_tests\\\\..\\\\..\\\\versions.py'\n",
      "  warnings.warn(str(e))\n",
      "C:\\Users\\succa\\anaconda3\\lib\\site-packages\\tigramite\\independence_tests\\gpdc_torch.py:33: UserWarning: No module named 'gpytorch'\n",
      "  warnings.warn(str(e))\n",
      "C:\\Users\\succa\\anaconda3\\lib\\site-packages\\outdated\\utils.py:14: OutdatedPackageWarning: The package outdated is out of date. Your version is 0.2.1, the latest is 0.2.2.\n",
      "Set the environment variable OUTDATED_IGNORE=1 to disable these warnings.\n",
      "  return warn(\n"
     ]
    }
   ],
   "source": [
    "from tigramite.independence_tests import cmiknn\n",
    "import pandas as pd\n",
    "import numpy as np\n",
    "import pingouin as pg"
   ]
  },
  {
   "cell_type": "code",
   "execution_count": 2,
   "id": "52a7a6cc",
   "metadata": {},
   "outputs": [],
   "source": [
    "def CMI_Knn_test(data, x, y, z, Kn, SN):\n",
    "    X = data[:,x].reshape(data.shape[0],1)\n",
    "    Y = data[:,y].reshape(data.shape[0],1)\n",
    "    if len(z)==0:\n",
    "        Z = None\n",
    "    else:\n",
    "        Z = data[:,z]\n",
    "\n",
    "    cmi = cmiknn.CMIknn(knn=Kn, shuffle_neighbors=SN, sig_samples=10000,\n",
    "                        significance='shuffle_test', transform='ranks')\n",
    "\n",
    "    MI, p_value = cmi.run_test_raw(X, Y, z=Z)\n",
    "    return MI, p_value"
   ]
  },
  {
   "cell_type": "code",
   "execution_count": 3,
   "id": "208183cb",
   "metadata": {},
   "outputs": [],
   "source": [
    "def Test(df, Kn, SN):\n",
    "    data = np.array(df)\n",
    "    data_df = pd.DataFrame(data)\n",
    "    cols = df.columns\n",
    "    testing_sets = [[0,1,[]], \n",
    "                    [0,2,[]],\n",
    "                    [1,2,[]],\n",
    "                    [0,1,[2]],\n",
    "                    [0,2,[1]],\n",
    "                    [1,2,[0]]]\n",
    "    for sets in testing_sets:\n",
    "        x, y, z = sets[0],sets[1],sets[2]\n",
    "        MI, p_value = CMI_Knn_test(data, x, y, z, Kn, SN)\n",
    "\n",
    "        parr_corr = pg.partial_corr(data=data_df, x=x, y=y, covar=z, method = \"spearman\")\n",
    "        Spear_p_value = parr_corr.iloc[0][\"p-val\"]\n",
    "        r = parr_corr.iloc[0][\"r\"]\n",
    "        \n",
    "        MI = round(MI,3)\n",
    "        p_value = round(p_value,3)\n",
    "\n",
    "        r = round(r,3)\n",
    "        Spear_p_value = round(Spear_p_value,3)\n",
    "        \n",
    "        if not sets[2]:\n",
    "            print(cols[sets[0]],cols[sets[1]], MI, r, p_value, Spear_p_value)\n",
    "        else:\n",
    "            print(cols[sets[0]],cols[sets[1]],cols[sets[2]][0], MI, r, p_value, Spear_p_value)"
   ]
  },
  {
   "cell_type": "code",
   "execution_count": 4,
   "id": "1d923df5",
   "metadata": {},
   "outputs": [],
   "source": [
    "df = pd.read_csv(\"Clean_data/SAMIs.csv\")[[\"Firearm Prevalence\",\"Gun Shops\",\"Homicides\"]]"
   ]
  },
  {
   "cell_type": "code",
   "execution_count": 5,
   "id": "079ff81b",
   "metadata": {},
   "outputs": [
    {
     "name": "stdout",
     "output_type": "stream",
     "text": [
      "Firearm Prevalence Gun Shops 0.023 0.187 0.0 0.0\n",
      "Firearm Prevalence Homicides 0.103 0.398 0.0 0.0\n",
      "Gun Shops Homicides 0.001 -0.007 0.673 0.843\n",
      "Firearm Prevalence Gun Shops Homicides 0.023 0.207 0.0 0.0\n",
      "Firearm Prevalence Homicides Gun Shops 0.08 0.407 0.0 0.0\n",
      "Gun Shops Homicides Firearm Prevalence 0.007 -0.09 0.039 0.009\n"
     ]
    }
   ],
   "source": [
    "Test(df, 0.2, 5) ## defaults"
   ]
  }
 ],
 "metadata": {
  "kernelspec": {
   "display_name": "Python 3 (ipykernel)",
   "language": "python",
   "name": "python3"
  },
  "language_info": {
   "codemirror_mode": {
    "name": "ipython",
    "version": 3
   },
   "file_extension": ".py",
   "mimetype": "text/x-python",
   "name": "python",
   "nbconvert_exporter": "python",
   "pygments_lexer": "ipython3",
   "version": "3.8.5"
  }
 },
 "nbformat": 4,
 "nbformat_minor": 5
}
