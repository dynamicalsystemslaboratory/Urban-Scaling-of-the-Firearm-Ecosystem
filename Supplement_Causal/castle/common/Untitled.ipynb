{
 "cells": [
  {
   "cell_type": "code",
   "execution_count": 1,
   "id": "e415505a",
   "metadata": {},
   "outputs": [],
   "source": [
    "import cmiknn\n",
    "# from data_processing import DataFrame\n",
    "import numpy as np"
   ]
  },
  {
   "cell_type": "code",
   "execution_count": 2,
   "id": "5c562eef",
   "metadata": {},
   "outputs": [],
   "source": [
    "cmi = cmiknn.CMIknn()"
   ]
  },
  {
   "cell_type": "code",
   "execution_count": 3,
   "id": "1a50da5d",
   "metadata": {},
   "outputs": [],
   "source": [
    "T = 1000\n",
    "dimz = 1\n",
    "\n",
    "random_state = np.random.default_rng(seed=42)\n",
    "\n",
    "z = random_state.standard_normal((T, dimz))\n",
    "x = (0.8*z[:,0] + random_state.standard_normal(T)).reshape(T, 1)\n",
    "y = (0.8*z[:,0] + random_state.standard_normal(T)).reshape(T, 1)\n",
    "w = y+z\n",
    "big_Z = np.array([z,w]).T[0]"
   ]
  },
  {
   "cell_type": "code",
   "execution_count": 4,
   "id": "71f92db3",
   "metadata": {},
   "outputs": [
    {
     "name": "stdout",
     "output_type": "stream",
     "text": [
      "X _|_ Y | Z\n"
     ]
    }
   ],
   "source": [
    "# Continuous data\n",
    "# print('X _|_ Y')\n",
    "# print(cmi.run_test_raw(x, y, z=None))\n",
    "print('X _|_ Y | Z')\n",
    "MI, p_value = cmi.run_test_raw(x, y, z=big_Z)"
   ]
  },
  {
   "cell_type": "code",
   "execution_count": 5,
   "id": "6da244eb",
   "metadata": {},
   "outputs": [
    {
     "name": "stdout",
     "output_type": "stream",
     "text": [
      "0.0017280422085494962 0.642\n"
     ]
    }
   ],
   "source": [
    "print(MI, p_value )"
   ]
  },
  {
   "cell_type": "code",
   "execution_count": null,
   "id": "e9592e34",
   "metadata": {},
   "outputs": [],
   "source": [
    "big_Z[:,[0,1]]"
   ]
  },
  {
   "cell_type": "code",
   "execution_count": null,
   "id": "31236464",
   "metadata": {},
   "outputs": [],
   "source": []
  }
 ],
 "metadata": {
  "kernelspec": {
   "display_name": "Python 3 (ipykernel)",
   "language": "python",
   "name": "python3"
  },
  "language_info": {
   "codemirror_mode": {
    "name": "ipython",
    "version": 3
   },
   "file_extension": ".py",
   "mimetype": "text/x-python",
   "name": "python",
   "nbconvert_exporter": "python",
   "pygments_lexer": "ipython3",
   "version": "3.9.13"
  }
 },
 "nbformat": 4,
 "nbformat_minor": 5
}
