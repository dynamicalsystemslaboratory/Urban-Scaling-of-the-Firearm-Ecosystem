{
 "cells": [
  {
   "cell_type": "code",
   "execution_count": 2,
   "id": "e415505a",
   "metadata": {},
   "outputs": [
    {
     "ename": "ImportError",
     "evalue": "attempted relative import with no known parent package",
     "output_type": "error",
     "traceback": [
      "\u001b[1;31m---------------------------------------------------------------------------\u001b[0m",
      "\u001b[1;31mImportError\u001b[0m                               Traceback (most recent call last)",
      "\u001b[1;32m~\\AppData\\Local\\Temp\\ipykernel_14980\\1601528725.py\u001b[0m in \u001b[0;36m<module>\u001b[1;34m\u001b[0m\n\u001b[1;32m----> 1\u001b[1;33m \u001b[1;32mfrom\u001b[0m \u001b[1;33m.\u001b[0m\u001b[0mTigramite_Stuff\u001b[0m \u001b[1;32mimport\u001b[0m \u001b[0mcmiknn\u001b[0m\u001b[1;33m\u001b[0m\u001b[1;33m\u001b[0m\u001b[0m\n\u001b[0m\u001b[0;32m      2\u001b[0m \u001b[1;31m# from data_processing import DataFrame\u001b[0m\u001b[1;33m\u001b[0m\u001b[1;33m\u001b[0m\u001b[0m\n\u001b[0;32m      3\u001b[0m \u001b[1;32mimport\u001b[0m \u001b[0mnumpy\u001b[0m \u001b[1;32mas\u001b[0m \u001b[0mnp\u001b[0m\u001b[1;33m\u001b[0m\u001b[1;33m\u001b[0m\u001b[0m\n",
      "\u001b[1;31mImportError\u001b[0m: attempted relative import with no known parent package"
     ]
    }
   ],
   "source": [
    "from .Tigramite_Stuff import cmiknn\n",
    "# from data_processing import DataFrame\n",
    "import numpy as np"
   ]
  },
  {
   "cell_type": "code",
   "execution_count": 2,
   "id": "5c562eef",
   "metadata": {},
   "outputs": [],
   "source": [
    "cmi = cmiknn.CMIknn()"
   ]
  },
  {
   "cell_type": "code",
   "execution_count": 6,
   "id": "1a50da5d",
   "metadata": {},
   "outputs": [],
   "source": [
    "T = 1000\n",
    "dimz = 1\n",
    "\n",
    "random_state = np.random.default_rng(seed=42)\n",
    "\n",
    "z = random_state.standard_normal((T, dimz))\n",
    "x = (0.8*z[:,0] + random_state.standard_normal(T)).reshape(T, 1)\n",
    "y = (0.8*z[:,0] + random_state.standard_normal(T)).reshape(T, 1)\n",
    "w = y+z\n",
    "big_Z = np.array([z,w]).T[0]"
   ]
  },
  {
   "cell_type": "code",
   "execution_count": 12,
   "id": "71f92db3",
   "metadata": {},
   "outputs": [
    {
     "name": "stdout",
     "output_type": "stream",
     "text": [
      "X _|_ Y | Z\n"
     ]
    }
   ],
   "source": [
    "# Continuous data\n",
    "# print('X _|_ Y')\n",
    "# print(cmi.run_test_raw(x, y, z=None))\n",
    "print('X _|_ Y | Z')\n",
    "MI, p_value = cmi.run_test_raw(x, y, z=big_Z)"
   ]
  },
  {
   "cell_type": "code",
   "execution_count": 13,
   "id": "6da244eb",
   "metadata": {},
   "outputs": [
    {
     "name": "stdout",
     "output_type": "stream",
     "text": [
      "0.0017280422085494962 0.594\n"
     ]
    }
   ],
   "source": [
    "print(MI, p_value )"
   ]
  },
  {
   "cell_type": "code",
   "execution_count": 11,
   "id": "e9592e34",
   "metadata": {},
   "outputs": [
    {
     "data": {
      "text/plain": [
       "array([[ 0.30471708,  0.09653976],\n",
       "       [-1.03998411, -2.5378491 ],\n",
       "       [ 0.7504512 ,  1.78482198],\n",
       "       ...,\n",
       "       [ 0.12117795,  2.54914498],\n",
       "       [ 0.13076419,  1.05482311],\n",
       "       [ 0.82375313,  1.1486349 ]])"
      ]
     },
     "execution_count": 11,
     "metadata": {},
     "output_type": "execute_result"
    }
   ],
   "source": [
    "big_Z[:,[0,1]]"
   ]
  },
  {
   "cell_type": "code",
   "execution_count": null,
   "id": "31236464",
   "metadata": {},
   "outputs": [],
   "source": []
  }
 ],
 "metadata": {
  "kernelspec": {
   "display_name": "Python 3 (ipykernel)",
   "language": "python",
   "name": "python3"
  },
  "language_info": {
   "codemirror_mode": {
    "name": "ipython",
    "version": 3
   },
   "file_extension": ".py",
   "mimetype": "text/x-python",
   "name": "python",
   "nbconvert_exporter": "python",
   "pygments_lexer": "ipython3",
   "version": "3.9.13"
  }
 },
 "nbformat": 4,
 "nbformat_minor": 5
}
