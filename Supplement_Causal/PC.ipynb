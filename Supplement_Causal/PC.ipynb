{
 "cells": [
  {
   "cell_type": "code",
   "execution_count": 1,
   "id": "01f05e57",
   "metadata": {},
   "outputs": [
    {
     "name": "stderr",
     "output_type": "stream",
     "text": [
      "2023-08-09 23:21:36,054 - C:\\Users\\succa\\Desktop\\Ph.D\\Research\\Guns_scaling\\Guns9\\Github\\Supplement_Causal\\castle\\algorithms\\__init__.py[line:36] - INFO: You are using ``pytorch`` as the backend.\n"
     ]
    }
   ],
   "source": [
    "import warnings\n",
    "warnings.filterwarnings(\"ignore\")\n",
    "import os\n",
    "os.environ['CASTLE_BACKEND'] = 'pytorch'\n",
    "import networkx as nx\n",
    "#import castle\n",
    "from castle.common import GraphDAG, independence_tests\n",
    "from castle.metrics import MetricsDAG\n",
    "from castle.datasets import IIDSimulation, DAG\n",
    "from castle.algorithms import PC, GES, ICALiNGAM, GOLEM\n",
    "from collections import OrderedDict\n",
    "\n",
    "import pandas as pd\n",
    "import numpy as np\n",
    "import matplotlib.pyplot as plt\n",
    "from scipy.stats import pearsonr, spearmanr\n",
    "from scipy.stats import linregress, t\n",
    "pd.options.mode.chained_assignment = None  # default='warn'\n",
    "import seaborn as sns"
   ]
  },
  {
   "cell_type": "code",
   "execution_count": 2,
   "id": "c08f977a",
   "metadata": {},
   "outputs": [],
   "source": [
    "merged_df = pd.read_csv(\"../Clean_data/SAMIs_5_Variables.csv\")"
   ]
  },
  {
   "cell_type": "code",
   "execution_count": 3,
   "id": "932252b3",
   "metadata": {},
   "outputs": [],
   "source": [
    "pc_dataset = np.array(merged_df[[\"Firearm Prevalence\",\"Armed_Robberies\",\"Homicides\",\"Gun Shops\",\"Firearm Homicides\"]])"
   ]
  },
  {
   "cell_type": "code",
   "execution_count": 4,
   "id": "25398760",
   "metadata": {},
   "outputs": [
    {
     "name": "stderr",
     "output_type": "stream",
     "text": [
      "2023-08-09 23:21:36,357 - C:\\Users\\succa\\anaconda3\\lib\\site-packages\\numba\\core\\transforms.py[line:58] - INFO: finding looplift candidates\n"
     ]
    },
    {
     "name": "stdout",
     "output_type": "stream",
     "text": [
      "0 1 [] 0.06038293463479327 0.0\n",
      "0 2 [] 0.12425270076993922 0.0\n",
      "0 3 [] 0.0234434309850009 0.0001\n",
      "0 4 [] 0.1551157988894083 0.0\n",
      "1 2 [] 0.12395452247174354 0.0\n",
      "1 3 [] 0.014987716246286809 0.0099\n",
      "1 4 [] 0.1352875132537017 0.0\n",
      "2 3 [] 0.0036106164744325042 0.4678\n",
      "2 4 [] 1.074301969561326 0.0\n"
     ]
    },
    {
     "name": "stderr",
     "output_type": "stream",
     "text": [
      "2023-08-09 23:37:11,860 - C:\\Users\\succa\\anaconda3\\lib\\site-packages\\numba\\core\\transforms.py[line:58] - INFO: finding looplift candidates\n"
     ]
    },
    {
     "name": "stdout",
     "output_type": "stream",
     "text": [
      "3 4 [] 0.004971453868892972 0.3552\n",
      "0 1 [2] 0.016217238333528172 0.0053\n",
      "0 1 [3] 0.04318289208920412 0.0\n",
      "0 1 [4] 0.012504128045303986 0.0577\n",
      "0 2 [3] 0.09587985918267439 0.0\n",
      "0 2 [4] 0.0013564499598421875 0.8001\n",
      "0 3 [4] 0.022006099498555365 0.0002\n",
      "0 4 [3] 0.11832966476039442 0.0\n",
      "1 2 [3] 0.09312118492099852 0.0\n",
      "1 2 [4] 0.00379350762163444 0.4597\n",
      "1 3 [4] 0.008212447826448255 0.3201\n"
     ]
    },
    {
     "data": {
      "image/png": "[encoded data removed]",
      "text/plain": [
       "<Figure size 432x288 with 1 Axes>"
      ]
     },
     "metadata": {},
     "output_type": "display_data"
    }
   ],
   "source": [
    "pc_MI = PC(ci_test = \"CMI_Knn\")\n",
    "pc_MI.learn(pc_dataset)\n",
    "learned_graph_MI = nx.DiGraph(pc_MI.causal_matrix)\n",
    "\n",
    "# Relabel the nodes\n",
    "MAPPING_MI  = {k: v for k, v in zip(range(5), [\"FP\",\"AR\",\"H\",\"GS\",\"FH\"])}\n",
    "learned_graph_MI  = nx.relabel_nodes(learned_graph_MI, MAPPING_MI, copy=True)\n",
    "\n",
    "# Plot the graph\n",
    "nx.draw(\n",
    "    learned_graph_MI, \n",
    "    with_labels=True,\n",
    "    node_size=1800,\n",
    "    font_size=18,\n",
    "    font_color='white'\n",
    ")"
   ]
  },
  {
   "cell_type": "code",
   "execution_count": null,
   "id": "d72fa64b",
   "metadata": {},
   "outputs": [],
   "source": []
  }
 ],
 "metadata": {
  "kernelspec": {
   "display_name": "Python 3 (ipykernel)",
   "language": "python",
   "name": "python3"
  },
  "language_info": {
   "codemirror_mode": {
    "name": "ipython",
    "version": 3
   },
   "file_extension": ".py",
   "mimetype": "text/x-python",
   "name": "python",
   "nbconvert_exporter": "python",
   "pygments_lexer": "ipython3",
   "version": "3.8.5"
  }
 },
 "nbformat": 4,
 "nbformat_minor": 5
}
