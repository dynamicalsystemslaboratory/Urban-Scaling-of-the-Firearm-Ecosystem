{
 "cells": [
  {
   "cell_type": "code",
   "execution_count": 1,
   "id": "01f05e57",
   "metadata": {},
   "outputs": [
    {
     "name": "stderr",
     "output_type": "stream",
     "text": [
      "2023-08-16 19:41:25,375 - C:\\Users\\succa\\Desktop\\Ph.D\\Research\\Guns_scaling\\Guns9\\Github\\Supplement_Causal\\castle\\algorithms\\__init__.py[line:36] - INFO: You are using ``pytorch`` as the backend.\n"
     ]
    }
   ],
   "source": [
    "import warnings\n",
    "warnings.filterwarnings(\"ignore\")\n",
    "import os\n",
    "os.environ['CASTLE_BACKEND'] = 'pytorch'\n",
    "import networkx as nx\n",
    "#import castle\n",
    "from castle.common import GraphDAG, independence_tests\n",
    "from castle.metrics import MetricsDAG\n",
    "from castle.datasets import IIDSimulation, DAG\n",
    "from castle.algorithms import PC, GES, ICALiNGAM, GOLEM\n",
    "from collections import OrderedDict\n",
    "\n",
    "import pandas as pd\n",
    "import numpy as np\n",
    "import matplotlib.pyplot as plt\n",
    "from scipy.stats import pearsonr, spearmanr\n",
    "from scipy.stats import linregress, t\n",
    "pd.options.mode.chained_assignment = None  # default='warn'\n",
    "import seaborn as sns"
   ]
  },
  {
   "cell_type": "code",
   "execution_count": 2,
   "id": "2fa90d54",
   "metadata": {},
   "outputs": [],
   "source": [
    "merged_df = pd.read_csv(\"../Clean_data/SAMIs_5_Variables.csv\")"
   ]
  },
  {
   "cell_type": "code",
   "execution_count": 3,
   "id": "932252b3",
   "metadata": {},
   "outputs": [],
   "source": [
    "pc_dataset = np.array(merged_df[[\"Firearm Prevalence\",\"Armed_Robberies\",\"Homicides\",\"Fireaarm  licenses\",\"Firearm Homicides\"]])"
   ]
  },
  {
   "cell_type": "code",
   "execution_count": 4,
   "id": "25398760",
   "metadata": {},
   "outputs": [
    {
     "name": "stderr",
     "output_type": "stream",
     "text": [
      "2023-08-16 19:41:25,667 - C:\\Users\\succa\\anaconda3\\lib\\site-packages\\numba\\core\\transforms.py[line:58] - INFO: finding looplift candidates\n"
     ]
    },
    {
     "name": "stdout",
     "output_type": "stream",
     "text": [
      "0 1 [] 0.07215661313651456 0.0\n",
      "0 2 [] 0.1299374300292877 0.0\n",
      "0 3 [] 0.04654518496335314 0.0\n",
      "0 4 [] 0.1641911315050848 0.0\n",
      "1 2 [] 0.13088149813744465 0.0\n",
      "1 3 [] 0.014805841447497414 0.02\n",
      "1 4 [] 0.14057501297926667 0.0\n",
      "2 3 [] 0.007420884989076448 0.2239\n",
      "2 4 [] 1.2129127667476722 0.0\n"
     ]
    },
    {
     "name": "stderr",
     "output_type": "stream",
     "text": [
      "2023-08-16 19:55:50,295 - C:\\Users\\succa\\anaconda3\\lib\\site-packages\\numba\\core\\transforms.py[line:58] - INFO: finding looplift candidates\n"
     ]
    },
    {
     "name": "stdout",
     "output_type": "stream",
     "text": [
      "3 4 [] 0.005221124762705642 0.3986\n",
      "0 1 [2] 0.01739968622369137 0.0018\n",
      "0 1 [3] 0.05424951386360899 0.0\n",
      "0 1 [4] 0.01231338608508814 0.0921\n",
      "0 2 [3] 0.112849335396068 0.0\n",
      "0 2 [4] -0.0006509883079415246 0.8948\n",
      "0 3 [4] 0.036481621349999216 0.0\n",
      "0 4 [3] 0.14014818465491263 0.0\n",
      "1 2 [3] 0.10541981380264964 0.0\n",
      "1 2 [4] 0.0032670044814198107 0.3774\n",
      "1 3 [4] 0.009943509925565586 0.162\n"
     ]
    },
    {
     "data": {
      "image/png": "[encoded data removed]",
      "text/plain": [
       "<Figure size 432x288 with 1 Axes>"
      ]
     },
     "metadata": {},
     "output_type": "display_data"
    }
   ],
   "source": [
    "pc_MI = PC(ci_test = \"CMI_Knn\")\n",
    "pc_MI.learn(pc_dataset)\n",
    "learned_graph_MI = nx.DiGraph(pc_MI.causal_matrix)\n",
    "\n",
    "# Relabel the nodes\n",
    "MAPPING_MI  = {k: v for k, v in zip(range(5), [\"F\",\"R\",\"H\",\"L\",\"FH\"])}\n",
    "learned_graph_MI  = nx.relabel_nodes(learned_graph_MI, MAPPING_MI, copy=True)\n",
    "\n",
    "# Plot the graph\n",
    "nx.draw(\n",
    "    learned_graph_MI, \n",
    "    with_labels=True,\n",
    "    node_size=1800,\n",
    "    font_size=18,\n",
    "    font_color='white'\n",
    ")"
   ]
  },
  {
   "cell_type": "code",
   "execution_count": null,
   "id": "d72fa64b",
   "metadata": {},
   "outputs": [],
   "source": []
  }
 ],
 "metadata": {
  "kernelspec": {
   "display_name": "Python 3 (ipykernel)",
   "language": "python",
   "name": "python3"
  },
  "language_info": {
   "codemirror_mode": {
    "name": "ipython",
    "version": 3
   },
   "file_extension": ".py",
   "mimetype": "text/x-python",
   "name": "python",
   "nbconvert_exporter": "python",
   "pygments_lexer": "ipython3",
   "version": "3.8.5"
  }
 },
 "nbformat": 4,
 "nbformat_minor": 5
}
